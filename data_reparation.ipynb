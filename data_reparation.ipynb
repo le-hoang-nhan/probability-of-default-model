{
 "cells": [
  {
   "cell_type": "code",
   "execution_count": 28,
   "metadata": {},
   "outputs": [],
   "source": [
    "#Import data\n",
    "import pandas as pd\n",
    "import matplotlib.pyplot as plt\n",
    "import matplotlib\n",
    "import numpy as nps\n",
    "from geopy.extra.rate_limiter import RateLimiter\n",
    "from geopy.geocoders import Nominatim\n",
    "import folium\n",
    "from sklearn.cluster import KMeans ,AgglomerativeClustering\n",
    "import gensim"
   ]
  },
  {
   "cell_type": "code",
   "execution_count": 29,
   "metadata": {
    "tags": []
   },
   "outputs": [
    {
     "output_type": "stream",
     "name": "stdout",
     "text": "month  TermOfPaymentDays  Amount_netCN  DefaultStatus  Age    ZIP  Country  \\\n0     12                110        204.59              0   74  52152  Germany   \n1     12                 30         29.90              0   57  44339  Germany   \n2     12                140        229.49              0   45  84095  Germany   \n3     12                140        264.48              0   76  99734  Germany   \n4     12                 80        145.68              0   53  14727  Germany   \n\n                    State  GDP by State  Unemployment rate  \n0  North Rhine-Westphalia       39400.0              0.066  \n1  North Rhine-Westphalia       39400.0              0.066  \n2                 Bavaria       47900.0              0.027  \n3               Thuringia       29700.0              0.052  \n4             Brandenburg       29400.0              0.057  \n"
    }
   ],
   "source": [
    "#Read data\n",
    "data = pd.read_excel('MSdata.xlsx') \n",
    "print(data.head())"
   ]
  },
  {
   "cell_type": "code",
   "execution_count": 30,
   "metadata": {
    "tags": []
   },
   "outputs": [
    {
     "output_type": "stream",
     "name": "stdout",
     "text": "<class 'pandas.core.frame.DataFrame'>\nRangeIndex: 327051 entries, 0 to 327050\nData columns (total 10 columns):\nmonth                327051 non-null int64\nTermOfPaymentDays    327051 non-null int64\nAmount_netCN         327051 non-null float64\nDefaultStatus        327051 non-null int64\nAge                  327051 non-null int64\nZIP                  327051 non-null object\nCountry              327051 non-null object\nState                325626 non-null object\nGDP by State         325626 non-null float64\nUnemployment rate    325626 non-null float64\ndtypes: float64(3), int64(4), object(3)\nmemory usage: 25.0+ MB\n"
    }
   ],
   "source": [
    "#Get info\n",
    "data.info()"
   ]
  },
  {
   "cell_type": "code",
   "execution_count": 31,
   "metadata": {
    "tags": []
   },
   "outputs": [
    {
     "output_type": "stream",
     "name": "stdout",
     "text": "<class 'pandas.core.frame.DataFrame'>\nInt64Index: 325626 entries, 0 to 327050\nData columns (total 10 columns):\nmonth                325626 non-null int64\nTermOfPaymentDays    325626 non-null int64\nAmount_netCN         325626 non-null float64\nDefaultStatus        325626 non-null int64\nAge                  325626 non-null int64\nZIP                  325626 non-null object\nCountry              325626 non-null object\nState                325626 non-null object\nGDP by State         325626 non-null float64\nUnemployment rate    325626 non-null float64\ndtypes: float64(3), int64(4), object(3)\nmemory usage: 27.3+ MB\n"
    }
   ],
   "source": [
    "#Drop Null rows\n",
    "data.dropna(subset=['State'], inplace=True)\n",
    "data.reset_index(drop=True)\n",
    "\n",
    "#check null values again\n",
    "data.info()"
   ]
  },
  {
   "cell_type": "code",
   "execution_count": 32,
   "metadata": {
    "tags": []
   },
   "outputs": [
    {
     "output_type": "stream",
     "name": "stdout",
     "text": "<class 'pandas.core.frame.DataFrame'>\nInt64Index: 325626 entries, 0 to 327050\nData columns (total 9 columns):\nmonth                325626 non-null int64\nAge                  325626 non-null int64\nAmount_netCN         325626 non-null float64\nTermOfPaymentDays    325626 non-null int64\nGDP by State         325626 non-null float64\nUnemployment rate    325626 non-null float64\nZIP                  325626 non-null object\nDefaultStatus        325626 non-null int64\nState                325626 non-null object\ndtypes: float64(3), int64(4), object(2)\nmemory usage: 24.8+ MB\n"
    }
   ],
   "source": [
    "#Data with all needed features\n",
    "Data_clean = data[['month', \"Age\",\"Amount_netCN\", \"TermOfPaymentDays\", 'GDP by State', 'Unemployment rate', 'ZIP', \"DefaultStatus\", 'State' ]]\n",
    "#get info\n",
    "Data_clean.info()"
   ]
  },
  {
   "cell_type": "code",
   "execution_count": 33,
   "metadata": {
    "tags": []
   },
   "outputs": [
    {
     "output_type": "stream",
     "name": "stdout",
     "text": "Index([], dtype='object')\n"
    }
   ],
   "source": [
    "# Check null value (Print a null value column array)\n",
    "print(Data_clean.columns[Data_clean.isnull().any()])"
   ]
  },
  {
   "cell_type": "code",
   "execution_count": 34,
   "metadata": {},
   "outputs": [],
   "source": [
    "#Save data\n",
    "Data_clean.to_excel('data_dropNull.xlsx', index = False)"
   ]
  },
  {
   "cell_type": "code",
   "execution_count": 35,
   "metadata": {
    "tags": []
   },
   "outputs": [
    {
     "output_type": "stream",
     "name": "stdout",
     "text": "<class 'pandas.core.frame.DataFrame'>\nInt64Index: 325626 entries, 0 to 327050\nData columns (total 8 columns):\nmonth                325626 non-null int64\nAge                  325626 non-null int64\nAmount_netCN         325626 non-null float64\nTermOfPaymentDays    325626 non-null int64\nGDP by State         325626 non-null float64\nUnemployment rate    325626 non-null float64\nZIP                  325626 non-null object\nDefaultStatus        325626 non-null int64\ndtypes: float64(3), int64(4), object(1)\nmemory usage: 22.4+ MB\n"
    }
   ],
   "source": [
    "#Data with all needed features\n",
    "Data_clean = data[['month', \"Age\",\"Amount_netCN\", \"TermOfPaymentDays\", 'GDP by State', 'Unemployment rate', 'ZIP', \"DefaultStatus\" ]]\n",
    "#get info\n",
    "Data_clean.info()"
   ]
  },
  {
   "cell_type": "code",
   "execution_count": 36,
   "metadata": {},
   "outputs": [],
   "source": [
    "#Creating dummy variables\n",
    "month = pd.get_dummies(Data_clean['month'])\n",
    "len(month.columns)\n",
    "name_month = []\n",
    "for i in range(1,len(month.columns)+1):\n",
    "    name_month.append('month'+str(i))\n",
    "#rename colum   \n",
    "month.columns = name_month"
   ]
  },
  {
   "cell_type": "code",
   "execution_count": 37,
   "metadata": {},
   "outputs": [
    {
     "output_type": "execute_result",
     "data": {
      "text/plain": "   month  Age  Amount_netCN  TermOfPaymentDays  GDP by State  \\\n0     12   74        204.59                110       39400.0   \n1     12   57         29.90                 30       39400.0   \n2     12   45        229.49                140       47900.0   \n3     12   76        264.48                140       29700.0   \n4     12   53        145.68                 80       29400.0   \n5     12   74        204.59                110       47900.0   \n6     12   49        249.50                140       47900.0   \n7     12   55        264.48                140       47900.0   \n8     12   51        204.59                110       27900.0   \n9     12   75        204.59                110       36600.0   \n\n   Unemployment rate    ZIP  DefaultStatus  month1  month2  month3  month4  \\\n0              0.066  52152              0       0       0       0       0   \n1              0.066  44339              0       0       0       0       0   \n2              0.027  84095              0       0       0       0       0   \n3              0.052  99734              0       0       0       0       0   \n4              0.057  14727              0       0       0       0       0   \n5              0.027  95445              0       0       0       0       0   \n6              0.027  80638              0       0       0       0       0   \n7              0.027  96132              0       0       0       0       0   \n8              0.067  19061              0       0       0       0       0   \n9              0.045  67240              0       0       0       0       0   \n\n   month5  month6  month7  month8  month9  month10  month11  month12  \n0       0       0       0       0       0        0        0        1  \n1       0       0       0       0       0        0        0        1  \n2       0       0       0       0       0        0        0        1  \n3       0       0       0       0       0        0        0        1  \n4       0       0       0       0       0        0        0        1  \n5       0       0       0       0       0        0        0        1  \n6       0       0       0       0       0        0        0        1  \n7       0       0       0       0       0        0        0        1  \n8       0       0       0       0       0        0        0        1  \n9       0       0       0       0       0        0        0        1  ",
      "text/html": "<div>\n<style scoped>\n    .dataframe tbody tr th:only-of-type {\n        vertical-align: middle;\n    }\n\n    .dataframe tbody tr th {\n        vertical-align: top;\n    }\n\n    .dataframe thead th {\n        text-align: right;\n    }\n</style>\n<table border=\"1\" class=\"dataframe\">\n  <thead>\n    <tr style=\"text-align: right;\">\n      <th></th>\n      <th>month</th>\n      <th>Age</th>\n      <th>Amount_netCN</th>\n      <th>TermOfPaymentDays</th>\n      <th>GDP by State</th>\n      <th>Unemployment rate</th>\n      <th>ZIP</th>\n      <th>DefaultStatus</th>\n      <th>month1</th>\n      <th>month2</th>\n      <th>month3</th>\n      <th>month4</th>\n      <th>month5</th>\n      <th>month6</th>\n      <th>month7</th>\n      <th>month8</th>\n      <th>month9</th>\n      <th>month10</th>\n      <th>month11</th>\n      <th>month12</th>\n    </tr>\n  </thead>\n  <tbody>\n    <tr>\n      <td>0</td>\n      <td>12</td>\n      <td>74</td>\n      <td>204.59</td>\n      <td>110</td>\n      <td>39400.0</td>\n      <td>0.066</td>\n      <td>52152</td>\n      <td>0</td>\n      <td>0</td>\n      <td>0</td>\n      <td>0</td>\n      <td>0</td>\n      <td>0</td>\n      <td>0</td>\n      <td>0</td>\n      <td>0</td>\n      <td>0</td>\n      <td>0</td>\n      <td>0</td>\n      <td>1</td>\n    </tr>\n    <tr>\n      <td>1</td>\n      <td>12</td>\n      <td>57</td>\n      <td>29.90</td>\n      <td>30</td>\n      <td>39400.0</td>\n      <td>0.066</td>\n      <td>44339</td>\n      <td>0</td>\n      <td>0</td>\n      <td>0</td>\n      <td>0</td>\n      <td>0</td>\n      <td>0</td>\n      <td>0</td>\n      <td>0</td>\n      <td>0</td>\n      <td>0</td>\n      <td>0</td>\n      <td>0</td>\n      <td>1</td>\n    </tr>\n    <tr>\n      <td>2</td>\n      <td>12</td>\n      <td>45</td>\n      <td>229.49</td>\n      <td>140</td>\n      <td>47900.0</td>\n      <td>0.027</td>\n      <td>84095</td>\n      <td>0</td>\n      <td>0</td>\n      <td>0</td>\n      <td>0</td>\n      <td>0</td>\n      <td>0</td>\n      <td>0</td>\n      <td>0</td>\n      <td>0</td>\n      <td>0</td>\n      <td>0</td>\n      <td>0</td>\n      <td>1</td>\n    </tr>\n    <tr>\n      <td>3</td>\n      <td>12</td>\n      <td>76</td>\n      <td>264.48</td>\n      <td>140</td>\n      <td>29700.0</td>\n      <td>0.052</td>\n      <td>99734</td>\n      <td>0</td>\n      <td>0</td>\n      <td>0</td>\n      <td>0</td>\n      <td>0</td>\n      <td>0</td>\n      <td>0</td>\n      <td>0</td>\n      <td>0</td>\n      <td>0</td>\n      <td>0</td>\n      <td>0</td>\n      <td>1</td>\n    </tr>\n    <tr>\n      <td>4</td>\n      <td>12</td>\n      <td>53</td>\n      <td>145.68</td>\n      <td>80</td>\n      <td>29400.0</td>\n      <td>0.057</td>\n      <td>14727</td>\n      <td>0</td>\n      <td>0</td>\n      <td>0</td>\n      <td>0</td>\n      <td>0</td>\n      <td>0</td>\n      <td>0</td>\n      <td>0</td>\n      <td>0</td>\n      <td>0</td>\n      <td>0</td>\n      <td>0</td>\n      <td>1</td>\n    </tr>\n    <tr>\n      <td>5</td>\n      <td>12</td>\n      <td>74</td>\n      <td>204.59</td>\n      <td>110</td>\n      <td>47900.0</td>\n      <td>0.027</td>\n      <td>95445</td>\n      <td>0</td>\n      <td>0</td>\n      <td>0</td>\n      <td>0</td>\n      <td>0</td>\n      <td>0</td>\n      <td>0</td>\n      <td>0</td>\n      <td>0</td>\n      <td>0</td>\n      <td>0</td>\n      <td>0</td>\n      <td>1</td>\n    </tr>\n    <tr>\n      <td>6</td>\n      <td>12</td>\n      <td>49</td>\n      <td>249.50</td>\n      <td>140</td>\n      <td>47900.0</td>\n      <td>0.027</td>\n      <td>80638</td>\n      <td>0</td>\n      <td>0</td>\n      <td>0</td>\n      <td>0</td>\n      <td>0</td>\n      <td>0</td>\n      <td>0</td>\n      <td>0</td>\n      <td>0</td>\n      <td>0</td>\n      <td>0</td>\n      <td>0</td>\n      <td>1</td>\n    </tr>\n    <tr>\n      <td>7</td>\n      <td>12</td>\n      <td>55</td>\n      <td>264.48</td>\n      <td>140</td>\n      <td>47900.0</td>\n      <td>0.027</td>\n      <td>96132</td>\n      <td>0</td>\n      <td>0</td>\n      <td>0</td>\n      <td>0</td>\n      <td>0</td>\n      <td>0</td>\n      <td>0</td>\n      <td>0</td>\n      <td>0</td>\n      <td>0</td>\n      <td>0</td>\n      <td>0</td>\n      <td>1</td>\n    </tr>\n    <tr>\n      <td>8</td>\n      <td>12</td>\n      <td>51</td>\n      <td>204.59</td>\n      <td>110</td>\n      <td>27900.0</td>\n      <td>0.067</td>\n      <td>19061</td>\n      <td>0</td>\n      <td>0</td>\n      <td>0</td>\n      <td>0</td>\n      <td>0</td>\n      <td>0</td>\n      <td>0</td>\n      <td>0</td>\n      <td>0</td>\n      <td>0</td>\n      <td>0</td>\n      <td>0</td>\n      <td>1</td>\n    </tr>\n    <tr>\n      <td>9</td>\n      <td>12</td>\n      <td>75</td>\n      <td>204.59</td>\n      <td>110</td>\n      <td>36600.0</td>\n      <td>0.045</td>\n      <td>67240</td>\n      <td>0</td>\n      <td>0</td>\n      <td>0</td>\n      <td>0</td>\n      <td>0</td>\n      <td>0</td>\n      <td>0</td>\n      <td>0</td>\n      <td>0</td>\n      <td>0</td>\n      <td>0</td>\n      <td>0</td>\n      <td>1</td>\n    </tr>\n  </tbody>\n</table>\n</div>"
     },
     "metadata": {},
     "execution_count": 37
    }
   ],
   "source": [
    "#Concatenating the dummy variables to the original dataset \n",
    "Data_clean=pd.concat([Data_clean,month],axis=1)\n",
    "#show data\n",
    "Data_clean.head(10)"
   ]
  },
  {
   "cell_type": "code",
   "execution_count": 38,
   "metadata": {
    "tags": []
   },
   "outputs": [
    {
     "output_type": "stream",
     "name": "stdout",
     "text": "<class 'pandas.core.frame.DataFrame'>\nInt64Index: 325626 entries, 0 to 327050\nData columns (total 20 columns):\nmonth                325626 non-null int64\nAge                  325626 non-null int64\nAmount_netCN         325626 non-null float64\nTermOfPaymentDays    325626 non-null int64\nGDP by State         325626 non-null float64\nUnemployment rate    325626 non-null float64\nZIP                  325626 non-null object\nDefaultStatus        325626 non-null int64\nmonth1               325626 non-null uint8\nmonth2               325626 non-null uint8\nmonth3               325626 non-null uint8\nmonth4               325626 non-null uint8\nmonth5               325626 non-null uint8\nmonth6               325626 non-null uint8\nmonth7               325626 non-null uint8\nmonth8               325626 non-null uint8\nmonth9               325626 non-null uint8\nmonth10              325626 non-null uint8\nmonth11              325626 non-null uint8\nmonth12              325626 non-null uint8\ndtypes: float64(3), int64(4), object(1), uint8(12)\nmemory usage: 26.1+ MB\n"
    }
   ],
   "source": [
    "#get info\n",
    "Data_clean.info()"
   ]
  },
  {
   "cell_type": "code",
   "execution_count": 39,
   "metadata": {},
   "outputs": [
    {
     "output_type": "execute_result",
     "data": {
      "text/plain": "DefaultStatus       0      1     All\nZIP                                 \n1067               46      2      48\n1069               79      8      87\n1097               41      1      42\n1099               65      3      68\n1108               19      0      19\n...               ...    ...     ...\n99991              33      2      35\n99994              23      1      24\n99996              25      1      26\n99998              44      1      45\nAll            304637  20989  325626\n\n[8112 rows x 3 columns]",
      "text/html": "<div>\n<style scoped>\n    .dataframe tbody tr th:only-of-type {\n        vertical-align: middle;\n    }\n\n    .dataframe tbody tr th {\n        vertical-align: top;\n    }\n\n    .dataframe thead th {\n        text-align: right;\n    }\n</style>\n<table border=\"1\" class=\"dataframe\">\n  <thead>\n    <tr style=\"text-align: right;\">\n      <th>DefaultStatus</th>\n      <th>0</th>\n      <th>1</th>\n      <th>All</th>\n    </tr>\n    <tr>\n      <th>ZIP</th>\n      <th></th>\n      <th></th>\n      <th></th>\n    </tr>\n  </thead>\n  <tbody>\n    <tr>\n      <td>1067</td>\n      <td>46</td>\n      <td>2</td>\n      <td>48</td>\n    </tr>\n    <tr>\n      <td>1069</td>\n      <td>79</td>\n      <td>8</td>\n      <td>87</td>\n    </tr>\n    <tr>\n      <td>1097</td>\n      <td>41</td>\n      <td>1</td>\n      <td>42</td>\n    </tr>\n    <tr>\n      <td>1099</td>\n      <td>65</td>\n      <td>3</td>\n      <td>68</td>\n    </tr>\n    <tr>\n      <td>1108</td>\n      <td>19</td>\n      <td>0</td>\n      <td>19</td>\n    </tr>\n    <tr>\n      <td>...</td>\n      <td>...</td>\n      <td>...</td>\n      <td>...</td>\n    </tr>\n    <tr>\n      <td>99991</td>\n      <td>33</td>\n      <td>2</td>\n      <td>35</td>\n    </tr>\n    <tr>\n      <td>99994</td>\n      <td>23</td>\n      <td>1</td>\n      <td>24</td>\n    </tr>\n    <tr>\n      <td>99996</td>\n      <td>25</td>\n      <td>1</td>\n      <td>26</td>\n    </tr>\n    <tr>\n      <td>99998</td>\n      <td>44</td>\n      <td>1</td>\n      <td>45</td>\n    </tr>\n    <tr>\n      <td>All</td>\n      <td>304637</td>\n      <td>20989</td>\n      <td>325626</td>\n    </tr>\n  </tbody>\n</table>\n<p>8112 rows × 3 columns</p>\n</div>"
     },
     "metadata": {},
     "execution_count": 39
    }
   ],
   "source": [
    "# Create a cross table of the ZIP and DefaultStatus\n",
    "ZipCode =pd.crosstab(Data_clean['ZIP'], Data_clean['DefaultStatus'], margins = True)\n",
    "ZipCode"
   ]
  },
  {
   "cell_type": "code",
   "execution_count": 40,
   "metadata": {},
   "outputs": [
    {
     "output_type": "execute_result",
     "data": {
      "text/plain": "DefaultStatus   0  1  All  Feq_default_Country  Feq_default_ZipCode\nZIP                                                                \n57645           0  1    1             0.000024                  1.0\n54612           0  1    1             0.000024                  1.0\n25593           0  1    1             0.000024                  1.0\n21527           0  1    1             0.000024                  1.0\n35687           0  1    1             0.000024                  1.0\n...            .. ..  ...                  ...                  ...\n83543          29  0   29             0.000000                  0.0\n83544           3  0    3             0.000000                  0.0\n83546           1  0    1             0.000000                  0.0\n83547           8  0    8             0.000000                  0.0\n79292          12  0   12             0.000000                  0.0\n\n[8112 rows x 5 columns]",
      "text/html": "<div>\n<style scoped>\n    .dataframe tbody tr th:only-of-type {\n        vertical-align: middle;\n    }\n\n    .dataframe tbody tr th {\n        vertical-align: top;\n    }\n\n    .dataframe thead th {\n        text-align: right;\n    }\n</style>\n<table border=\"1\" class=\"dataframe\">\n  <thead>\n    <tr style=\"text-align: right;\">\n      <th>DefaultStatus</th>\n      <th>0</th>\n      <th>1</th>\n      <th>All</th>\n      <th>Feq_default_Country</th>\n      <th>Feq_default_ZipCode</th>\n    </tr>\n    <tr>\n      <th>ZIP</th>\n      <th></th>\n      <th></th>\n      <th></th>\n      <th></th>\n      <th></th>\n    </tr>\n  </thead>\n  <tbody>\n    <tr>\n      <td>57645</td>\n      <td>0</td>\n      <td>1</td>\n      <td>1</td>\n      <td>0.000024</td>\n      <td>1.0</td>\n    </tr>\n    <tr>\n      <td>54612</td>\n      <td>0</td>\n      <td>1</td>\n      <td>1</td>\n      <td>0.000024</td>\n      <td>1.0</td>\n    </tr>\n    <tr>\n      <td>25593</td>\n      <td>0</td>\n      <td>1</td>\n      <td>1</td>\n      <td>0.000024</td>\n      <td>1.0</td>\n    </tr>\n    <tr>\n      <td>21527</td>\n      <td>0</td>\n      <td>1</td>\n      <td>1</td>\n      <td>0.000024</td>\n      <td>1.0</td>\n    </tr>\n    <tr>\n      <td>35687</td>\n      <td>0</td>\n      <td>1</td>\n      <td>1</td>\n      <td>0.000024</td>\n      <td>1.0</td>\n    </tr>\n    <tr>\n      <td>...</td>\n      <td>...</td>\n      <td>...</td>\n      <td>...</td>\n      <td>...</td>\n      <td>...</td>\n    </tr>\n    <tr>\n      <td>83543</td>\n      <td>29</td>\n      <td>0</td>\n      <td>29</td>\n      <td>0.000000</td>\n      <td>0.0</td>\n    </tr>\n    <tr>\n      <td>83544</td>\n      <td>3</td>\n      <td>0</td>\n      <td>3</td>\n      <td>0.000000</td>\n      <td>0.0</td>\n    </tr>\n    <tr>\n      <td>83546</td>\n      <td>1</td>\n      <td>0</td>\n      <td>1</td>\n      <td>0.000000</td>\n      <td>0.0</td>\n    </tr>\n    <tr>\n      <td>83547</td>\n      <td>8</td>\n      <td>0</td>\n      <td>8</td>\n      <td>0.000000</td>\n      <td>0.0</td>\n    </tr>\n    <tr>\n      <td>79292</td>\n      <td>12</td>\n      <td>0</td>\n      <td>12</td>\n      <td>0.000000</td>\n      <td>0.0</td>\n    </tr>\n  </tbody>\n</table>\n<p>8112 rows × 5 columns</p>\n</div>"
     },
     "metadata": {},
     "execution_count": 40
    }
   ],
   "source": [
    "#Create Feq_default_ZipCode feature\n",
    "ZipCode['Feq_default_Country']=ZipCode[1]/ZipCode[1].sum()\n",
    "ZipCode['Feq_default_ZipCode']=ZipCode[1]/ZipCode['All']\n",
    "ZipCode.sort_values(by=['Feq_default_ZipCode'], ascending=False)"
   ]
  },
  {
   "cell_type": "code",
   "execution_count": 41,
   "metadata": {},
   "outputs": [],
   "source": [
    "#Create Feq_default_ZipCode feature\n",
    "ZipCode.drop(columns=[0, 1, 'All', 'Feq_default_Country'], inplace= True)"
   ]
  },
  {
   "cell_type": "code",
   "execution_count": 42,
   "metadata": {
    "tags": []
   },
   "outputs": [
    {
     "output_type": "stream",
     "name": "stdout",
     "text": "<class 'pandas.core.frame.DataFrame'>\nIndex: 8112 entries, 1067 to All\nData columns (total 1 columns):\nFeq_default_ZipCode    8112 non-null float64\ndtypes: float64(1)\nmemory usage: 126.8+ KB\n"
    }
   ],
   "source": [
    "#get info\n",
    "ZipCode.info()"
   ]
  },
  {
   "cell_type": "code",
   "execution_count": 43,
   "metadata": {
    "tags": []
   },
   "outputs": [
    {
     "output_type": "stream",
     "name": "stdout",
     "text": "<class 'pandas.core.frame.DataFrame'>\nInt64Index: 325626 entries, 0 to 325625\nData columns (total 21 columns):\nmonth                  325626 non-null int64\nAge                    325626 non-null int64\nAmount_netCN           325626 non-null float64\nTermOfPaymentDays      325626 non-null int64\nGDP by State           325626 non-null float64\nUnemployment rate      325626 non-null float64\nZIP                    325626 non-null object\nDefaultStatus          325626 non-null int64\nmonth1                 325626 non-null uint8\nmonth2                 325626 non-null uint8\nmonth3                 325626 non-null uint8\nmonth4                 325626 non-null uint8\nmonth5                 325626 non-null uint8\nmonth6                 325626 non-null uint8\nmonth7                 325626 non-null uint8\nmonth8                 325626 non-null uint8\nmonth9                 325626 non-null uint8\nmonth10                325626 non-null uint8\nmonth11                325626 non-null uint8\nmonth12                325626 non-null uint8\nFeq_default_ZipCode    325626 non-null float64\ndtypes: float64(4), int64(4), object(1), uint8(12)\nmemory usage: 28.6+ MB\n"
    }
   ],
   "source": [
    "#Merge data\n",
    "Data_clean = pd.merge(Data_clean, ZipCode['Feq_default_ZipCode'], on='ZIP')\n",
    "#get info\n",
    "Data_clean.info()"
   ]
  },
  {
   "cell_type": "code",
   "execution_count": 44,
   "metadata": {},
   "outputs": [
    {
     "output_type": "execute_result",
     "data": {
      "text/plain": "   month  Age  Amount_netCN  TermOfPaymentDays  GDP by State  \\\n0     12   74        204.59                110       39400.0   \n1      9   72         60.88                 30       39400.0   \n2      8   62        160.68                 30       39400.0   \n3      8   75        130.77                 30       39400.0   \n4      8   68         42.89                 30       39400.0   \n\n   Unemployment rate    ZIP  DefaultStatus  month1  month2  ...  month4  \\\n0              0.066  52152              0       0       0  ...       0   \n1              0.066  52152              0       0       0  ...       0   \n2              0.066  52152              0       0       0  ...       0   \n3              0.066  52152              0       0       0  ...       0   \n4              0.066  52152              1       0       0  ...       0   \n\n   month5  month6  month7  month8  month9  month10  month11  month12  \\\n0       0       0       0       0       0        0        0        1   \n1       0       0       0       0       1        0        0        0   \n2       0       0       0       1       0        0        0        0   \n3       0       0       0       1       0        0        0        0   \n4       0       0       0       1       0        0        0        0   \n\n   Feq_default_ZipCode  \n0             0.081633  \n1             0.081633  \n2             0.081633  \n3             0.081633  \n4             0.081633  \n\n[5 rows x 21 columns]",
      "text/html": "<div>\n<style scoped>\n    .dataframe tbody tr th:only-of-type {\n        vertical-align: middle;\n    }\n\n    .dataframe tbody tr th {\n        vertical-align: top;\n    }\n\n    .dataframe thead th {\n        text-align: right;\n    }\n</style>\n<table border=\"1\" class=\"dataframe\">\n  <thead>\n    <tr style=\"text-align: right;\">\n      <th></th>\n      <th>month</th>\n      <th>Age</th>\n      <th>Amount_netCN</th>\n      <th>TermOfPaymentDays</th>\n      <th>GDP by State</th>\n      <th>Unemployment rate</th>\n      <th>ZIP</th>\n      <th>DefaultStatus</th>\n      <th>month1</th>\n      <th>month2</th>\n      <th>...</th>\n      <th>month4</th>\n      <th>month5</th>\n      <th>month6</th>\n      <th>month7</th>\n      <th>month8</th>\n      <th>month9</th>\n      <th>month10</th>\n      <th>month11</th>\n      <th>month12</th>\n      <th>Feq_default_ZipCode</th>\n    </tr>\n  </thead>\n  <tbody>\n    <tr>\n      <td>0</td>\n      <td>12</td>\n      <td>74</td>\n      <td>204.59</td>\n      <td>110</td>\n      <td>39400.0</td>\n      <td>0.066</td>\n      <td>52152</td>\n      <td>0</td>\n      <td>0</td>\n      <td>0</td>\n      <td>...</td>\n      <td>0</td>\n      <td>0</td>\n      <td>0</td>\n      <td>0</td>\n      <td>0</td>\n      <td>0</td>\n      <td>0</td>\n      <td>0</td>\n      <td>1</td>\n      <td>0.081633</td>\n    </tr>\n    <tr>\n      <td>1</td>\n      <td>9</td>\n      <td>72</td>\n      <td>60.88</td>\n      <td>30</td>\n      <td>39400.0</td>\n      <td>0.066</td>\n      <td>52152</td>\n      <td>0</td>\n      <td>0</td>\n      <td>0</td>\n      <td>...</td>\n      <td>0</td>\n      <td>0</td>\n      <td>0</td>\n      <td>0</td>\n      <td>0</td>\n      <td>1</td>\n      <td>0</td>\n      <td>0</td>\n      <td>0</td>\n      <td>0.081633</td>\n    </tr>\n    <tr>\n      <td>2</td>\n      <td>8</td>\n      <td>62</td>\n      <td>160.68</td>\n      <td>30</td>\n      <td>39400.0</td>\n      <td>0.066</td>\n      <td>52152</td>\n      <td>0</td>\n      <td>0</td>\n      <td>0</td>\n      <td>...</td>\n      <td>0</td>\n      <td>0</td>\n      <td>0</td>\n      <td>0</td>\n      <td>1</td>\n      <td>0</td>\n      <td>0</td>\n      <td>0</td>\n      <td>0</td>\n      <td>0.081633</td>\n    </tr>\n    <tr>\n      <td>3</td>\n      <td>8</td>\n      <td>75</td>\n      <td>130.77</td>\n      <td>30</td>\n      <td>39400.0</td>\n      <td>0.066</td>\n      <td>52152</td>\n      <td>0</td>\n      <td>0</td>\n      <td>0</td>\n      <td>...</td>\n      <td>0</td>\n      <td>0</td>\n      <td>0</td>\n      <td>0</td>\n      <td>1</td>\n      <td>0</td>\n      <td>0</td>\n      <td>0</td>\n      <td>0</td>\n      <td>0.081633</td>\n    </tr>\n    <tr>\n      <td>4</td>\n      <td>8</td>\n      <td>68</td>\n      <td>42.89</td>\n      <td>30</td>\n      <td>39400.0</td>\n      <td>0.066</td>\n      <td>52152</td>\n      <td>1</td>\n      <td>0</td>\n      <td>0</td>\n      <td>...</td>\n      <td>0</td>\n      <td>0</td>\n      <td>0</td>\n      <td>0</td>\n      <td>1</td>\n      <td>0</td>\n      <td>0</td>\n      <td>0</td>\n      <td>0</td>\n      <td>0.081633</td>\n    </tr>\n  </tbody>\n</table>\n<p>5 rows × 21 columns</p>\n</div>"
     },
     "metadata": {},
     "execution_count": 44
    }
   ],
   "source": [
    "#Show data\n",
    "Data_clean.head()"
   ]
  },
  {
   "cell_type": "code",
   "execution_count": 45,
   "metadata": {
    "tags": []
   },
   "outputs": [
    {
     "output_type": "stream",
     "name": "stdout",
     "text": "<class 'pandas.core.frame.DataFrame'>\nInt64Index: 325626 entries, 0 to 325625\nData columns (total 21 columns):\nmonth                  325626 non-null int64\nAge                    325626 non-null int64\nAmount_netCN           325626 non-null float64\nTermOfPaymentDays      325626 non-null int64\nGDP by State           325626 non-null float64\nUnemployment rate      325626 non-null float64\nZIP                    325626 non-null object\nDefaultStatus          325626 non-null int64\nmonth1                 325626 non-null uint8\nmonth2                 325626 non-null uint8\nmonth3                 325626 non-null uint8\nmonth4                 325626 non-null uint8\nmonth5                 325626 non-null uint8\nmonth6                 325626 non-null uint8\nmonth7                 325626 non-null uint8\nmonth8                 325626 non-null uint8\nmonth9                 325626 non-null uint8\nmonth10                325626 non-null uint8\nmonth11                325626 non-null uint8\nmonth12                325626 non-null uint8\nFeq_default_ZipCode    325626 non-null float64\ndtypes: float64(4), int64(4), object(1), uint8(12)\nmemory usage: 28.6+ MB\n"
    }
   ],
   "source": [
    "#get info\n",
    "Data_clean.info()"
   ]
  },
  {
   "cell_type": "code",
   "execution_count": 46,
   "metadata": {
    "tags": []
   },
   "outputs": [
    {
     "output_type": "stream",
     "name": "stdout",
     "text": "0    304637\n1     20989\nName: DefaultStatus, dtype: int64\n"
    }
   ],
   "source": [
    "# Check the defaut status values\n",
    "print(Data_clean['DefaultStatus'].value_counts())"
   ]
  },
  {
   "cell_type": "code",
   "execution_count": 47,
   "metadata": {},
   "outputs": [],
   "source": [
    "#Data is imbalanced, so we need to create a balanced data\n",
    "count_nondefault, count_default = Data_clean['DefaultStatus'].value_counts()"
   ]
  },
  {
   "cell_type": "code",
   "execution_count": 48,
   "metadata": {},
   "outputs": [],
   "source": [
    "# Create data sets for defaults and non-defaults\n",
    "nondefaults = Data_clean [Data_clean ['DefaultStatus'] == 0]\n",
    "defaults = Data_clean [Data_clean ['DefaultStatus'] == 1]"
   ]
  },
  {
   "cell_type": "code",
   "execution_count": 49,
   "metadata": {
    "tags": []
   },
   "outputs": [
    {
     "output_type": "stream",
     "name": "stdout",
     "text": "1    20989\n0    20989\nName: DefaultStatus, dtype: int64\n"
    }
   ],
   "source": [
    "# Undersample the non-defaults\n",
    "nondefaults_under = nondefaults.sample(count_default)\n",
    "\n",
    "# Concatenate the undersampled nondefaults with defaults\n",
    "data_balanced = pd.concat([nondefaults_under.reset_index(drop = True),\n",
    "                             defaults.reset_index(drop = True)], axis = 0)\n",
    "\n",
    "# Print the value counts for loan status\n",
    "print(data_balanced['DefaultStatus'].value_counts())"
   ]
  },
  {
   "cell_type": "code",
   "execution_count": 50,
   "metadata": {
    "tags": []
   },
   "outputs": [
    {
     "output_type": "stream",
     "name": "stdout",
     "text": "<class 'pandas.core.frame.DataFrame'>\nInt64Index: 41978 entries, 0 to 20988\nData columns (total 21 columns):\nmonth                  41978 non-null int64\nAge                    41978 non-null int64\nAmount_netCN           41978 non-null float64\nTermOfPaymentDays      41978 non-null int64\nGDP by State           41978 non-null float64\nUnemployment rate      41978 non-null float64\nZIP                    41978 non-null object\nDefaultStatus          41978 non-null int64\nmonth1                 41978 non-null uint8\nmonth2                 41978 non-null uint8\nmonth3                 41978 non-null uint8\nmonth4                 41978 non-null uint8\nmonth5                 41978 non-null uint8\nmonth6                 41978 non-null uint8\nmonth7                 41978 non-null uint8\nmonth8                 41978 non-null uint8\nmonth9                 41978 non-null uint8\nmonth10                41978 non-null uint8\nmonth11                41978 non-null uint8\nmonth12                41978 non-null uint8\nFeq_default_ZipCode    41978 non-null float64\ndtypes: float64(4), int64(4), object(1), uint8(12)\nmemory usage: 3.7+ MB\n"
    }
   ],
   "source": [
    "#get info\n",
    "data_balanced.info()"
   ]
  },
  {
   "cell_type": "code",
   "execution_count": 51,
   "metadata": {},
   "outputs": [
    {
     "output_type": "execute_result",
     "data": {
      "text/plain": "              month           Age  Amount_netCN  TermOfPaymentDays  \\\ncount  41978.000000  41978.000000  41978.000000       41978.000000   \nmean       4.894111     58.403092     81.827509          35.624327   \nstd        2.392916     15.406551     57.233846          23.996713   \nmin        1.000000     20.000000      9.900000          21.000000   \n25%        3.000000     49.000000     50.880000          30.000000   \n50%        5.000000     59.000000     60.880000          30.000000   \n75%        6.000000     69.000000     84.760000          30.000000   \nmax       12.000000    101.000000    481.970000         233.000000   \n\n       GDP by State  Unemployment rate  DefaultStatus        month1  \\\ncount  41978.000000       41978.000000   41978.000000  41978.000000   \nmean   39889.973319           0.050802       0.500000      0.087189   \nstd     7467.256856           0.016262       0.500006      0.282114   \nmin    27900.000000           0.027000       0.000000      0.000000   \n25%    36200.000000           0.031000       0.000000      0.000000   \n50%    39400.000000           0.051000       0.500000      0.000000   \n75%    46300.000000           0.066000       1.000000      0.000000   \nmax    65600.000000           0.102000       1.000000      1.000000   \n\n             month2        month3        month4        month5        month6  \\\ncount  41978.000000  41978.000000  41978.000000  41978.000000  41978.000000   \nmean       0.080018      0.118157      0.180738      0.153604      0.151818   \nstd        0.271324      0.322798      0.384805      0.360573      0.358848   \nmin        0.000000      0.000000      0.000000      0.000000      0.000000   \n25%        0.000000      0.000000      0.000000      0.000000      0.000000   \n50%        0.000000      0.000000      0.000000      0.000000      0.000000   \n75%        0.000000      0.000000      0.000000      0.000000      0.000000   \nmax        1.000000      1.000000      1.000000      1.000000      1.000000   \n\n             month7        month8        month9       month10       month11  \\\ncount  41978.000000  41978.000000  41978.000000  41978.000000  41978.000000   \nmean       0.069536      0.085045      0.040783      0.015413      0.010148   \nstd        0.254367      0.278951      0.197790      0.123189      0.100227   \nmin        0.000000      0.000000      0.000000      0.000000      0.000000   \n25%        0.000000      0.000000      0.000000      0.000000      0.000000   \n50%        0.000000      0.000000      0.000000      0.000000      0.000000   \n75%        0.000000      0.000000      0.000000      0.000000      0.000000   \nmax        1.000000      1.000000      1.000000      1.000000      1.000000   \n\n            month12  Feq_default_ZipCode  \ncount  41978.000000         41978.000000  \nmean       0.007552             0.078552  \nstd        0.086572             0.053868  \nmin        0.000000             0.000000  \n25%        0.000000             0.046512  \n50%        0.000000             0.069767  \n75%        0.000000             0.100000  \nmax        1.000000             1.000000  ",
      "text/html": "<div>\n<style scoped>\n    .dataframe tbody tr th:only-of-type {\n        vertical-align: middle;\n    }\n\n    .dataframe tbody tr th {\n        vertical-align: top;\n    }\n\n    .dataframe thead th {\n        text-align: right;\n    }\n</style>\n<table border=\"1\" class=\"dataframe\">\n  <thead>\n    <tr style=\"text-align: right;\">\n      <th></th>\n      <th>month</th>\n      <th>Age</th>\n      <th>Amount_netCN</th>\n      <th>TermOfPaymentDays</th>\n      <th>GDP by State</th>\n      <th>Unemployment rate</th>\n      <th>DefaultStatus</th>\n      <th>month1</th>\n      <th>month2</th>\n      <th>month3</th>\n      <th>month4</th>\n      <th>month5</th>\n      <th>month6</th>\n      <th>month7</th>\n      <th>month8</th>\n      <th>month9</th>\n      <th>month10</th>\n      <th>month11</th>\n      <th>month12</th>\n      <th>Feq_default_ZipCode</th>\n    </tr>\n  </thead>\n  <tbody>\n    <tr>\n      <td>count</td>\n      <td>41978.000000</td>\n      <td>41978.000000</td>\n      <td>41978.000000</td>\n      <td>41978.000000</td>\n      <td>41978.000000</td>\n      <td>41978.000000</td>\n      <td>41978.000000</td>\n      <td>41978.000000</td>\n      <td>41978.000000</td>\n      <td>41978.000000</td>\n      <td>41978.000000</td>\n      <td>41978.000000</td>\n      <td>41978.000000</td>\n      <td>41978.000000</td>\n      <td>41978.000000</td>\n      <td>41978.000000</td>\n      <td>41978.000000</td>\n      <td>41978.000000</td>\n      <td>41978.000000</td>\n      <td>41978.000000</td>\n    </tr>\n    <tr>\n      <td>mean</td>\n      <td>4.894111</td>\n      <td>58.403092</td>\n      <td>81.827509</td>\n      <td>35.624327</td>\n      <td>39889.973319</td>\n      <td>0.050802</td>\n      <td>0.500000</td>\n      <td>0.087189</td>\n      <td>0.080018</td>\n      <td>0.118157</td>\n      <td>0.180738</td>\n      <td>0.153604</td>\n      <td>0.151818</td>\n      <td>0.069536</td>\n      <td>0.085045</td>\n      <td>0.040783</td>\n      <td>0.015413</td>\n      <td>0.010148</td>\n      <td>0.007552</td>\n      <td>0.078552</td>\n    </tr>\n    <tr>\n      <td>std</td>\n      <td>2.392916</td>\n      <td>15.406551</td>\n      <td>57.233846</td>\n      <td>23.996713</td>\n      <td>7467.256856</td>\n      <td>0.016262</td>\n      <td>0.500006</td>\n      <td>0.282114</td>\n      <td>0.271324</td>\n      <td>0.322798</td>\n      <td>0.384805</td>\n      <td>0.360573</td>\n      <td>0.358848</td>\n      <td>0.254367</td>\n      <td>0.278951</td>\n      <td>0.197790</td>\n      <td>0.123189</td>\n      <td>0.100227</td>\n      <td>0.086572</td>\n      <td>0.053868</td>\n    </tr>\n    <tr>\n      <td>min</td>\n      <td>1.000000</td>\n      <td>20.000000</td>\n      <td>9.900000</td>\n      <td>21.000000</td>\n      <td>27900.000000</td>\n      <td>0.027000</td>\n      <td>0.000000</td>\n      <td>0.000000</td>\n      <td>0.000000</td>\n      <td>0.000000</td>\n      <td>0.000000</td>\n      <td>0.000000</td>\n      <td>0.000000</td>\n      <td>0.000000</td>\n      <td>0.000000</td>\n      <td>0.000000</td>\n      <td>0.000000</td>\n      <td>0.000000</td>\n      <td>0.000000</td>\n      <td>0.000000</td>\n    </tr>\n    <tr>\n      <td>25%</td>\n      <td>3.000000</td>\n      <td>49.000000</td>\n      <td>50.880000</td>\n      <td>30.000000</td>\n      <td>36200.000000</td>\n      <td>0.031000</td>\n      <td>0.000000</td>\n      <td>0.000000</td>\n      <td>0.000000</td>\n      <td>0.000000</td>\n      <td>0.000000</td>\n      <td>0.000000</td>\n      <td>0.000000</td>\n      <td>0.000000</td>\n      <td>0.000000</td>\n      <td>0.000000</td>\n      <td>0.000000</td>\n      <td>0.000000</td>\n      <td>0.000000</td>\n      <td>0.046512</td>\n    </tr>\n    <tr>\n      <td>50%</td>\n      <td>5.000000</td>\n      <td>59.000000</td>\n      <td>60.880000</td>\n      <td>30.000000</td>\n      <td>39400.000000</td>\n      <td>0.051000</td>\n      <td>0.500000</td>\n      <td>0.000000</td>\n      <td>0.000000</td>\n      <td>0.000000</td>\n      <td>0.000000</td>\n      <td>0.000000</td>\n      <td>0.000000</td>\n      <td>0.000000</td>\n      <td>0.000000</td>\n      <td>0.000000</td>\n      <td>0.000000</td>\n      <td>0.000000</td>\n      <td>0.000000</td>\n      <td>0.069767</td>\n    </tr>\n    <tr>\n      <td>75%</td>\n      <td>6.000000</td>\n      <td>69.000000</td>\n      <td>84.760000</td>\n      <td>30.000000</td>\n      <td>46300.000000</td>\n      <td>0.066000</td>\n      <td>1.000000</td>\n      <td>0.000000</td>\n      <td>0.000000</td>\n      <td>0.000000</td>\n      <td>0.000000</td>\n      <td>0.000000</td>\n      <td>0.000000</td>\n      <td>0.000000</td>\n      <td>0.000000</td>\n      <td>0.000000</td>\n      <td>0.000000</td>\n      <td>0.000000</td>\n      <td>0.000000</td>\n      <td>0.100000</td>\n    </tr>\n    <tr>\n      <td>max</td>\n      <td>12.000000</td>\n      <td>101.000000</td>\n      <td>481.970000</td>\n      <td>233.000000</td>\n      <td>65600.000000</td>\n      <td>0.102000</td>\n      <td>1.000000</td>\n      <td>1.000000</td>\n      <td>1.000000</td>\n      <td>1.000000</td>\n      <td>1.000000</td>\n      <td>1.000000</td>\n      <td>1.000000</td>\n      <td>1.000000</td>\n      <td>1.000000</td>\n      <td>1.000000</td>\n      <td>1.000000</td>\n      <td>1.000000</td>\n      <td>1.000000</td>\n      <td>1.000000</td>\n    </tr>\n  </tbody>\n</table>\n</div>"
     },
     "metadata": {},
     "execution_count": 51
    }
   ],
   "source": [
    "data_balanced.describe() "
   ]
  },
  {
   "cell_type": "code",
   "execution_count": 52,
   "metadata": {},
   "outputs": [
    {
     "output_type": "execute_result",
     "data": {
      "text/plain": "   month  Age  Amount_netCN  TermOfPaymentDays  GDP by State  \\\n0      2   66         60.78                 30       47900.0   \n1      4   78         50.88                 30       47900.0   \n2      9   73         60.88                 30       37100.0   \n3      5   51         42.89                 30       39400.0   \n4      4   78         59.78                 30       47900.0   \n\n   Unemployment rate    ZIP  DefaultStatus  month1  month2  ...  month4  \\\n0              0.027  85077              0       0       1  ...       0   \n1              0.027  81247              0       0       0  ...       1   \n2              0.051  49356              0       0       0  ...       0   \n3              0.066  46284              0       0       0  ...       0   \n4              0.027  84076              0       0       0  ...       1   \n\n   month5  month6  month7  month8  month9  month10  month11  month12  \\\n0       0       0       0       0       0        0        0        0   \n1       0       0       0       0       0        0        0        0   \n2       0       0       0       0       1        0        0        0   \n3       1       0       0       0       0        0        0        0   \n4       0       0       0       0       0        0        0        0   \n\n   Feq_default_ZipCode  \n0             0.062500  \n1             0.015385  \n2             0.102564  \n3             0.111111  \n4             0.032258  \n\n[5 rows x 21 columns]",
      "text/html": "<div>\n<style scoped>\n    .dataframe tbody tr th:only-of-type {\n        vertical-align: middle;\n    }\n\n    .dataframe tbody tr th {\n        vertical-align: top;\n    }\n\n    .dataframe thead th {\n        text-align: right;\n    }\n</style>\n<table border=\"1\" class=\"dataframe\">\n  <thead>\n    <tr style=\"text-align: right;\">\n      <th></th>\n      <th>month</th>\n      <th>Age</th>\n      <th>Amount_netCN</th>\n      <th>TermOfPaymentDays</th>\n      <th>GDP by State</th>\n      <th>Unemployment rate</th>\n      <th>ZIP</th>\n      <th>DefaultStatus</th>\n      <th>month1</th>\n      <th>month2</th>\n      <th>...</th>\n      <th>month4</th>\n      <th>month5</th>\n      <th>month6</th>\n      <th>month7</th>\n      <th>month8</th>\n      <th>month9</th>\n      <th>month10</th>\n      <th>month11</th>\n      <th>month12</th>\n      <th>Feq_default_ZipCode</th>\n    </tr>\n  </thead>\n  <tbody>\n    <tr>\n      <td>0</td>\n      <td>2</td>\n      <td>66</td>\n      <td>60.78</td>\n      <td>30</td>\n      <td>47900.0</td>\n      <td>0.027</td>\n      <td>85077</td>\n      <td>0</td>\n      <td>0</td>\n      <td>1</td>\n      <td>...</td>\n      <td>0</td>\n      <td>0</td>\n      <td>0</td>\n      <td>0</td>\n      <td>0</td>\n      <td>0</td>\n      <td>0</td>\n      <td>0</td>\n      <td>0</td>\n      <td>0.062500</td>\n    </tr>\n    <tr>\n      <td>1</td>\n      <td>4</td>\n      <td>78</td>\n      <td>50.88</td>\n      <td>30</td>\n      <td>47900.0</td>\n      <td>0.027</td>\n      <td>81247</td>\n      <td>0</td>\n      <td>0</td>\n      <td>0</td>\n      <td>...</td>\n      <td>1</td>\n      <td>0</td>\n      <td>0</td>\n      <td>0</td>\n      <td>0</td>\n      <td>0</td>\n      <td>0</td>\n      <td>0</td>\n      <td>0</td>\n      <td>0.015385</td>\n    </tr>\n    <tr>\n      <td>2</td>\n      <td>9</td>\n      <td>73</td>\n      <td>60.88</td>\n      <td>30</td>\n      <td>37100.0</td>\n      <td>0.051</td>\n      <td>49356</td>\n      <td>0</td>\n      <td>0</td>\n      <td>0</td>\n      <td>...</td>\n      <td>0</td>\n      <td>0</td>\n      <td>0</td>\n      <td>0</td>\n      <td>0</td>\n      <td>1</td>\n      <td>0</td>\n      <td>0</td>\n      <td>0</td>\n      <td>0.102564</td>\n    </tr>\n    <tr>\n      <td>3</td>\n      <td>5</td>\n      <td>51</td>\n      <td>42.89</td>\n      <td>30</td>\n      <td>39400.0</td>\n      <td>0.066</td>\n      <td>46284</td>\n      <td>0</td>\n      <td>0</td>\n      <td>0</td>\n      <td>...</td>\n      <td>0</td>\n      <td>1</td>\n      <td>0</td>\n      <td>0</td>\n      <td>0</td>\n      <td>0</td>\n      <td>0</td>\n      <td>0</td>\n      <td>0</td>\n      <td>0.111111</td>\n    </tr>\n    <tr>\n      <td>4</td>\n      <td>4</td>\n      <td>78</td>\n      <td>59.78</td>\n      <td>30</td>\n      <td>47900.0</td>\n      <td>0.027</td>\n      <td>84076</td>\n      <td>0</td>\n      <td>0</td>\n      <td>0</td>\n      <td>...</td>\n      <td>1</td>\n      <td>0</td>\n      <td>0</td>\n      <td>0</td>\n      <td>0</td>\n      <td>0</td>\n      <td>0</td>\n      <td>0</td>\n      <td>0</td>\n      <td>0.032258</td>\n    </tr>\n  </tbody>\n</table>\n<p>5 rows × 21 columns</p>\n</div>"
     },
     "metadata": {},
     "execution_count": 52
    }
   ],
   "source": [
    "#show data\n",
    "data_balanced.head()"
   ]
  },
  {
   "cell_type": "code",
   "execution_count": 53,
   "metadata": {},
   "outputs": [],
   "source": [
    "#Save data, ready for tranning models\n",
    "data_balanced.to_excel('data_balanced.xlsx', index = False)"
   ]
  },
  {
   "cell_type": "code",
   "execution_count": null,
   "metadata": {},
   "outputs": [],
   "source": []
  }
 ],
 "metadata": {
  "language_info": {
   "codemirror_mode": {
    "name": "ipython",
    "version": 3
   },
   "file_extension": ".py",
   "mimetype": "text/x-python",
   "name": "python",
   "nbconvert_exporter": "python",
   "pygments_lexer": "ipython3",
   "version": "3.7.3-final"
  },
  "orig_nbformat": 2,
  "kernelspec": {
   "name": "python37364bitaeddb42db20b4156b87aeecf11ea40bf",
   "display_name": "Python 3.7.3 64-bit"
  }
 },
 "nbformat": 4,
 "nbformat_minor": 2
}